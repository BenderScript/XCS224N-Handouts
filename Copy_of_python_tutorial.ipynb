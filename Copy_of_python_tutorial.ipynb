{
  "cells": [
    {
      "cell_type": "markdown",
      "metadata": {
        "id": "view-in-github",
        "colab_type": "text"
      },
      "source": [
        "<a href=\"https://colab.research.google.com/github/BenderScript/XCS224N-Handouts/blob/main/Copy_of_python_tutorial.ipynb\" target=\"_parent\"><img src=\"https://colab.research.google.com/assets/colab-badge.svg\" alt=\"Open In Colab\"/></a>"
      ]
    },
    {
      "cell_type": "markdown",
      "id": "733f8cec",
      "metadata": {
        "id": "733f8cec"
      },
      "source": [
        "# Python Tutorial"
      ]
    },
    {
      "cell_type": "markdown",
      "id": "347cd487",
      "metadata": {
        "id": "347cd487"
      },
      "source": [
        "## Collections"
      ]
    },
    {
      "cell_type": "markdown",
      "id": "e691f94d",
      "metadata": {
        "id": "e691f94d"
      },
      "source": [
        "Python has several built-in types that are useful for storing and manipulating data: list, tuple, dict. Here is the official Python documentation on these types (and many others): https://docs.python.org/3/library/stdtypes.html."
      ]
    },
    {
      "cell_type": "markdown",
      "id": "635401d7",
      "metadata": {
        "id": "635401d7"
      },
      "source": [
        "### Lists"
      ]
    },
    {
      "cell_type": "markdown",
      "id": "ce42dfd9",
      "metadata": {
        "id": "ce42dfd9"
      },
      "source": [
        "Lists are mutable arrays. Let's see how they work."
      ]
    },
    {
      "cell_type": "code",
      "execution_count": null,
      "id": "3f24605e",
      "metadata": {
        "id": "3f24605e"
      },
      "outputs": [],
      "source": [
        "names = [\"Zach\", \"Jay\"]"
      ]
    },
    {
      "cell_type": "code",
      "execution_count": null,
      "id": "ae2fb323",
      "metadata": {
        "id": "ae2fb323",
        "outputId": "d18d6050-ffcb-4821-ef05-134ffd7746e6",
        "colab": {
          "base_uri": "https://localhost:8080/"
        }
      },
      "outputs": [
        {
          "output_type": "stream",
          "name": "stdout",
          "text": [
            "Zach\n"
          ]
        }
      ],
      "source": [
        "# Index into list by index\n",
        "print(names[0])"
      ]
    },
    {
      "cell_type": "code",
      "execution_count": null,
      "id": "64066853",
      "metadata": {
        "id": "64066853",
        "outputId": "2cc2d885-55a0-4055-902c-d21bb44ee8fb",
        "colab": {
          "base_uri": "https://localhost:8080/"
        }
      },
      "outputs": [
        {
          "output_type": "stream",
          "name": "stdout",
          "text": [
            "['Zach', 'Jay', 'Richard']\n"
          ]
        }
      ],
      "source": [
        "# Append to list (appends to end of list)\n",
        "names.append(\"Richard\")\n",
        "print(names)"
      ]
    },
    {
      "cell_type": "code",
      "execution_count": null,
      "id": "357799cc",
      "metadata": {
        "id": "357799cc",
        "outputId": "2ff33afb-897c-47ee-b7a7-2a0e5d13df83",
        "colab": {
          "base_uri": "https://localhost:8080/"
        }
      },
      "outputs": [
        {
          "output_type": "stream",
          "name": "stdout",
          "text": [
            "4\n"
          ]
        }
      ],
      "source": [
        "# Get length of list\n",
        "print(len(names))"
      ]
    },
    {
      "cell_type": "code",
      "execution_count": null,
      "id": "8977adcf",
      "metadata": {
        "id": "8977adcf",
        "outputId": "38b923f5-2552-491f-dc5c-dadfea18bed8",
        "colab": {
          "base_uri": "https://localhost:8080/"
        }
      },
      "outputs": [
        {
          "output_type": "stream",
          "name": "stdout",
          "text": [
            "['Zach', 'Jay', 'Abi', 'Kevin']\n"
          ]
        }
      ],
      "source": [
        "# Concatenate two lists\n",
        "# += operator is a short hand for list1 = list1 + list2 (can also be used for -, *, / and on other types of variables)\n",
        "names += [\"Abi\", \"Kevin\"]\n",
        "print(names)"
      ]
    },
    {
      "cell_type": "code",
      "execution_count": null,
      "id": "57c178a7",
      "metadata": {
        "id": "57c178a7"
      },
      "outputs": [],
      "source": [
        "# Two ways to create an empty list\n",
        "more_names = []\n",
        "more_names = list()"
      ]
    },
    {
      "cell_type": "code",
      "execution_count": null,
      "id": "7913fce7",
      "metadata": {
        "scrolled": true,
        "id": "7913fce7",
        "outputId": "47d2d4e6-7535-4f6f-cce0-1d3b244f6f35",
        "colab": {
          "base_uri": "https://localhost:8080/"
        }
      },
      "outputs": [
        {
          "output_type": "stream",
          "name": "stdout",
          "text": [
            "[1, ['hi', 'bye'], -0.12, None]\n"
          ]
        }
      ],
      "source": [
        "# Create a list that contains different data types, this is allowed in Python\n",
        "stuff = [1, [\"hi\", \"bye\"], -0.12, None]\n",
        "print(stuff)"
      ]
    },
    {
      "cell_type": "markdown",
      "id": "68682c20",
      "metadata": {
        "id": "68682c20"
      },
      "source": [
        "List slicing is a useful way to access a slice of elements in a list."
      ]
    },
    {
      "cell_type": "code",
      "execution_count": null,
      "id": "8fc049ef",
      "metadata": {
        "id": "8fc049ef",
        "outputId": "4a42aa70-839f-4d58-f0bd-293ee590a114",
        "colab": {
          "base_uri": "https://localhost:8080/"
        }
      },
      "outputs": [
        {
          "output_type": "stream",
          "name": "stdout",
          "text": [
            "[0, 1, 2]\n"
          ]
        }
      ],
      "source": [
        "numbers = [0, 1, 2, 3, 4, 5, 6]\n",
        "\n",
        "# Slices from start index (inclusive) to end index (exclusive)\n",
        "print(numbers[0:3])"
      ]
    },
    {
      "cell_type": "code",
      "execution_count": null,
      "id": "3e34a509",
      "metadata": {
        "id": "3e34a509",
        "outputId": "cd3a30d1-8864-4d4a-bc9f-66c3e05ab416",
        "colab": {
          "base_uri": "https://localhost:8080/"
        }
      },
      "outputs": [
        {
          "output_type": "stream",
          "name": "stdout",
          "text": [
            "[0, 1, 2]\n",
            "[5, 6]\n"
          ]
        }
      ],
      "source": [
        "# When start index is not specified, it is start of list\n",
        "# When end index is not specified, it is end of list\n",
        "print(numbers[:3])\n",
        "print(numbers[5:])"
      ]
    },
    {
      "cell_type": "code",
      "execution_count": null,
      "id": "813da35a",
      "metadata": {
        "id": "813da35a",
        "outputId": "3ef4af26-f32a-4196-e8c3-2dba48ea5fd8",
        "colab": {
          "base_uri": "https://localhost:8080/"
        }
      },
      "outputs": [
        {
          "output_type": "stream",
          "name": "stdout",
          "text": [
            "[0, 1, 2, 3, 4, 5, 6]\n"
          ]
        }
      ],
      "source": [
        "# : takes the slice of all elements along a dimension, is very useful when working with numpy arrays\n",
        "print(numbers[:])"
      ]
    },
    {
      "cell_type": "code",
      "execution_count": null,
      "id": "eaa197af",
      "metadata": {
        "id": "eaa197af",
        "outputId": "e809ba27-cef4-469f-ded0-942a1e512d47",
        "colab": {
          "base_uri": "https://localhost:8080/"
        }
      },
      "outputs": [
        {
          "output_type": "stream",
          "name": "stdout",
          "text": [
            "6\n",
            "[4, 5, 6]\n",
            "[3, 4]\n"
          ]
        }
      ],
      "source": [
        "# Negative index wraps around, start counting from the end of list\n",
        "print(numbers[-1])\n",
        "print(numbers[-3:])\n",
        "print(numbers[3:-2])"
      ]
    },
    {
      "cell_type": "markdown",
      "id": "22371049",
      "metadata": {
        "id": "22371049"
      },
      "source": [
        "### Tuples"
      ]
    },
    {
      "cell_type": "markdown",
      "id": "bfca6098",
      "metadata": {
        "id": "bfca6098"
      },
      "source": [
        "Tuples are immutable arrays. Let's see how they work."
      ]
    },
    {
      "cell_type": "code",
      "execution_count": null,
      "id": "b542e470",
      "metadata": {
        "id": "b542e470"
      },
      "outputs": [],
      "source": [
        "# Use parentheses for tuples, square brackets for lists\n",
        "names = (\"Zach\", \"Jay\")"
      ]
    },
    {
      "cell_type": "code",
      "execution_count": null,
      "id": "3906a033",
      "metadata": {
        "id": "3906a033",
        "outputId": "cb0725be-8e68-4a6f-d9b8-1e1485be8cf0",
        "colab": {
          "base_uri": "https://localhost:8080/"
        }
      },
      "outputs": [
        {
          "output_type": "stream",
          "name": "stdout",
          "text": [
            "Zach\n",
            "2\n"
          ]
        }
      ],
      "source": [
        "# Syntax for accessing an element and getting length are the same as lists\n",
        "print(names[0])\n",
        "print(len(names))"
      ]
    },
    {
      "cell_type": "code",
      "execution_count": null,
      "id": "8799a4c5",
      "metadata": {
        "id": "8799a4c5",
        "outputId": "983f2d77-4bfd-4905-8136-ccd698aa679f",
        "colab": {
          "base_uri": "https://localhost:8080/",
          "height": 194
        }
      },
      "outputs": [
        {
          "output_type": "error",
          "ename": "TypeError",
          "evalue": "'tuple' object does not support item assignment",
          "traceback": [
            "\u001b[0;31m---------------------------------------------------------------------------\u001b[0m",
            "\u001b[0;31mTypeError\u001b[0m                                 Traceback (most recent call last)",
            "\u001b[0;32m<ipython-input-8-8ab9a31bdd3d>\u001b[0m in \u001b[0;36m<cell line: 2>\u001b[0;34m()\u001b[0m\n\u001b[1;32m      1\u001b[0m \u001b[0;31m# But unlike lists, tuples do not support item re-assignment\u001b[0m\u001b[0;34m\u001b[0m\u001b[0;34m\u001b[0m\u001b[0m\n\u001b[0;32m----> 2\u001b[0;31m \u001b[0mnames\u001b[0m\u001b[0;34m[\u001b[0m\u001b[0;36m0\u001b[0m\u001b[0;34m]\u001b[0m \u001b[0;34m=\u001b[0m \u001b[0;34m\"Richard\"\u001b[0m\u001b[0;34m\u001b[0m\u001b[0;34m\u001b[0m\u001b[0m\n\u001b[0m",
            "\u001b[0;31mTypeError\u001b[0m: 'tuple' object does not support item assignment"
          ]
        }
      ],
      "source": [
        "# But unlike lists, tuples do not support item re-assignment\n",
        "names[0] = \"Richard\""
      ]
    },
    {
      "cell_type": "code",
      "execution_count": null,
      "id": "9918ac4b",
      "metadata": {
        "id": "9918ac4b",
        "outputId": "3b344e2c-3724-43d8-b121-c7020e0efa85",
        "colab": {
          "base_uri": "https://localhost:8080/"
        }
      },
      "outputs": [
        {
          "output_type": "stream",
          "name": "stdout",
          "text": [
            "()\n",
            "(10,)\n"
          ]
        }
      ],
      "source": [
        "# Create an empty tuple\n",
        "empty = tuple()\n",
        "print(empty)\n",
        "\n",
        "# Create a tuple with a single item, the comma is important\n",
        "single = (10,)\n",
        "print(single)"
      ]
    },
    {
      "cell_type": "markdown",
      "id": "00800704",
      "metadata": {
        "id": "00800704"
      },
      "source": [
        "## Dictionary"
      ]
    },
    {
      "cell_type": "markdown",
      "id": "8111c6c3",
      "metadata": {
        "id": "8111c6c3"
      },
      "source": [
        "Dictionaries are hash maps. Let's see how they work."
      ]
    },
    {
      "cell_type": "code",
      "execution_count": null,
      "id": "646bda2f",
      "metadata": {
        "id": "646bda2f"
      },
      "outputs": [],
      "source": [
        "# Two ways to create an empty dictionary\n",
        "phonebook = {}\n",
        "phonebook = dict()"
      ]
    },
    {
      "cell_type": "code",
      "execution_count": null,
      "id": "65c67196",
      "metadata": {
        "id": "65c67196"
      },
      "outputs": [],
      "source": [
        "# Create dictionary with one item\n",
        "phonebook = {\"Zach\": \"12-37\"}\n",
        "# Add another item\n",
        "phonebook[\"Jay\"] = \"34-23\""
      ]
    },
    {
      "cell_type": "code",
      "execution_count": null,
      "id": "1bc431d9",
      "metadata": {
        "id": "1bc431d9",
        "outputId": "f95ac109-1682-488d-9f16-c907603c6344",
        "colab": {
          "base_uri": "https://localhost:8080/"
        }
      },
      "outputs": [
        {
          "output_type": "stream",
          "name": "stdout",
          "text": [
            "True\n",
            "False\n"
          ]
        }
      ],
      "source": [
        "# Check if a key is in the dictionary\n",
        "print(\"Zach\" in phonebook)\n",
        "print(\"Kevin\" in phonebook)"
      ]
    },
    {
      "cell_type": "code",
      "execution_count": null,
      "id": "87018123",
      "metadata": {
        "id": "87018123",
        "outputId": "d1587601-cade-4831-ebea-2ede9fa21c97",
        "colab": {
          "base_uri": "https://localhost:8080/"
        }
      },
      "outputs": [
        {
          "output_type": "stream",
          "name": "stdout",
          "text": [
            "34-23\n"
          ]
        }
      ],
      "source": [
        "# Get corresponding value for a key\n",
        "print(phonebook[\"Jay\"])"
      ]
    },
    {
      "cell_type": "code",
      "execution_count": null,
      "id": "18555a3a",
      "metadata": {
        "id": "18555a3a",
        "outputId": "0d4c23ca-7c35-48cc-f7cb-128c1577b164",
        "colab": {
          "base_uri": "https://localhost:8080/"
        }
      },
      "outputs": [
        {
          "output_type": "stream",
          "name": "stdout",
          "text": [
            "{'Jay': '34-23'}\n"
          ]
        }
      ],
      "source": [
        "# Delete an item\n",
        "del phonebook[\"Zach\"]\n",
        "print(phonebook)"
      ]
    },
    {
      "cell_type": "markdown",
      "id": "60aceb86",
      "metadata": {
        "id": "60aceb86"
      },
      "source": [
        "## Loops"
      ]
    },
    {
      "cell_type": "code",
      "execution_count": null,
      "id": "f7189f9d",
      "metadata": {
        "id": "f7189f9d",
        "outputId": "f212df07-d656-4462-d325-d1e12a50ba3a",
        "colab": {
          "base_uri": "https://localhost:8080/"
        }
      },
      "outputs": [
        {
          "output_type": "stream",
          "name": "stdout",
          "text": [
            "0\n",
            "1\n",
            "2\n",
            "3\n",
            "4\n"
          ]
        }
      ],
      "source": [
        "# Basic for loop\n",
        "for i in range(5):\n",
        "    print(i)"
      ]
    },
    {
      "cell_type": "code",
      "execution_count": null,
      "id": "10ae15db",
      "metadata": {
        "id": "10ae15db",
        "outputId": "f0b2d379-d7db-4921-a80b-9666d522e512",
        "colab": {
          "base_uri": "https://localhost:8080/"
        }
      },
      "outputs": [
        {
          "output_type": "stream",
          "name": "stdout",
          "text": [
            "Zach\n",
            "Jay\n",
            "Richard\n"
          ]
        }
      ],
      "source": [
        "# To iterate over a list\n",
        "names = [\"Zach\", \"Jay\", \"Richard\"]\n",
        "for name in names:\n",
        "    print(name)"
      ]
    },
    {
      "cell_type": "code",
      "execution_count": null,
      "id": "00d5035b",
      "metadata": {
        "id": "00d5035b",
        "outputId": "cf11872a-e79f-4b1e-d9e9-f19cec57b3c4",
        "colab": {
          "base_uri": "https://localhost:8080/"
        }
      },
      "outputs": [
        {
          "output_type": "stream",
          "name": "stdout",
          "text": [
            "0 Zach\n",
            "1 Jay\n",
            "2 Richard\n",
            "---\n",
            "0 Zach\n",
            "1 Jay\n",
            "2 Richard\n"
          ]
        }
      ],
      "source": [
        "# To iterate over indices and values in a list\n",
        "# Way 1\n",
        "for i in range(len(names)):\n",
        "    print(i, names[i])\n",
        "\n",
        "print(\"---\")\n",
        "\n",
        "# Way 2\n",
        "for i, name in enumerate(names):\n",
        "    print(i, name)"
      ]
    },
    {
      "cell_type": "code",
      "execution_count": null,
      "id": "f18b7ce6",
      "metadata": {
        "id": "f18b7ce6",
        "outputId": "6479d6cf-e894-459f-b43b-d32e669c5a89",
        "colab": {
          "base_uri": "https://localhost:8080/"
        }
      },
      "outputs": [
        {
          "output_type": "stream",
          "name": "stdout",
          "text": [
            "Zach\n",
            "Jay\n",
            "---\n",
            "12-37\n",
            "34-23\n",
            "---\n",
            "Zach 12-37\n",
            "Jay 34-23\n"
          ]
        }
      ],
      "source": [
        "# To iterate over a dictionary\n",
        "phonebook = {\"Zach\": \"12-37\", \"Jay\": \"34-23\"}\n",
        "\n",
        "# Iterate over keys\n",
        "for name in phonebook:\n",
        "    print(name)\n",
        "\n",
        "print(\"---\")\n",
        "\n",
        "# Iterate over values\n",
        "for number in phonebook.values():\n",
        "    print(number)\n",
        "\n",
        "print(\"---\")\n",
        "\n",
        "# Iterate over keys and values\n",
        "for name, number in phonebook.items():\n",
        "    print(name, number)"
      ]
    },
    {
      "cell_type": "markdown",
      "id": "e9661ef4",
      "metadata": {
        "id": "e9661ef4"
      },
      "source": [
        "## NumPy\n",
        "NumPy is a Python library, which adds support for large, multi-dimensional arrays and matrices, along with a large collection of optimized, high-level mathematical functions to operate on these arrays."
      ]
    },
    {
      "cell_type": "markdown",
      "id": "ecdb0df8",
      "metadata": {
        "id": "ecdb0df8"
      },
      "source": [
        "You may need to install numpy first before importing it in the next cell.\n",
        "\n",
        "There are many ways to manage your packages, but the workflow we suggest for this class is to use Anaconda.\n",
        " - Download Anaconda. Create a conda environment when you work on a new project.\n",
        " - Activate your conda environment and install libraries using conda or pip if they are not available in conda.\n",
        " - If you are running scripts on command line, run inside your conda environment.\n",
        " - If you are using a Jupyter notebook, add your conda environment to your Jupyter notebook: https://towardsdatascience.com/get-your-conda-environment-to-show-in-jupyter-notebooks-the-easy-way-17010b76e874. Create your Jupyter notebook and verify you're in your conda environment kernel (top right of notebook should display the name). If you're not, go to the Kernel tab on the top left and click Change kernel to change to your conda environment kernel."
      ]
    },
    {
      "cell_type": "code",
      "execution_count": null,
      "id": "ab7d3f32",
      "metadata": {
        "id": "ab7d3f32"
      },
      "outputs": [],
      "source": [
        "# Import numpy\n",
        "import numpy as np"
      ]
    },
    {
      "cell_type": "code",
      "execution_count": null,
      "id": "6596eb30",
      "metadata": {
        "scrolled": false,
        "id": "6596eb30",
        "outputId": "1443d9b7-35c3-4fe8-d27c-26ebf4b418fa",
        "colab": {
          "base_uri": "https://localhost:8080/"
        }
      },
      "outputs": [
        {
          "output_type": "stream",
          "name": "stdout",
          "text": [
            "(1, 3)\n",
            "(1, 3)\n",
            "\n",
            "[[ 6  7  5]\n",
            " [ 8  9 10]]\n",
            "(2, 3)\n"
          ]
        }
      ],
      "source": [
        "# Create numpy arrays from lists\n",
        "x = np.array([1,2,3])\n",
        "a = np.array([[1,2,3]])\n",
        "\n",
        "\n",
        "y = np.array([[3,4,5]])\n",
        "z = np.array([[6,7,5],[8,9, 10]])\n",
        "\n",
        "# Let's take a look at their shapes.\n",
        "# When working with numpy arrays, .shape will be a very useful debugging tool\n",
        "print(a.shape)\n",
        "print(y.shape)\n",
        "print()\n",
        "print(z)\n",
        "print(z.shape)"
      ]
    },
    {
      "cell_type": "markdown",
      "id": "f4b465bf",
      "metadata": {
        "id": "f4b465bf"
      },
      "source": [
        "Vectors can be represented as 1-D arrays of shape (N,) or 2-D arrays of shape (N, 1) or (1, N). But it's important to note that the shapes (N,), (N, 1), and (1,N) are not the same and may result in different behavior (we'll see some examples below involving matrix multiplication and broadcasting).\n",
        "\n",
        "Matrices are generally represented as 2-D arrays of shape (M, N).\n",
        "\n",
        "The best way to ensure your code gives you the behavior you expect is to keep track of your array shapes and try out small test cases or refer back to documentation when you are unsure."
      ]
    },
    {
      "cell_type": "code",
      "source": [
        "a = np.arange(10)\n",
        "b = a.reshape((5, 2))\n",
        "print(a)\n",
        "print()\n",
        "print(b)"
      ],
      "metadata": {
        "colab": {
          "base_uri": "https://localhost:8080/"
        },
        "id": "A0Wl4qioLmb-",
        "outputId": "565372ee-b5a0-407c-f557-3afdaa5b01c2"
      },
      "id": "A0Wl4qioLmb-",
      "execution_count": null,
      "outputs": [
        {
          "output_type": "stream",
          "name": "stdout",
          "text": [
            "[0 1 2 3 4 5 6 7 8 9]\n",
            "\n",
            "[[0 1]\n",
            " [2 3]\n",
            " [4 5]\n",
            " [6 7]\n",
            " [8 9]]\n"
          ]
        }
      ]
    },
    {
      "cell_type": "markdown",
      "id": "bcb3f37c",
      "metadata": {
        "id": "bcb3f37c"
      },
      "source": [
        "### Array Operations"
      ]
    },
    {
      "cell_type": "markdown",
      "id": "18a8a694",
      "metadata": {
        "id": "18a8a694"
      },
      "source": [
        "There are many NumPy operations that can be used to reduce a numpy array along an axis.\n",
        "\n",
        "Let's look at the np.max operation (documentation: https://numpy.org/doc/stable/reference/generated/numpy.ndarray.max.html)."
      ]
    },
    {
      "cell_type": "code",
      "execution_count": null,
      "id": "1fcf4220",
      "metadata": {
        "id": "1fcf4220",
        "colab": {
          "base_uri": "https://localhost:8080/"
        },
        "outputId": "09535259-37a8-42b2-ee84-217bb0563da4"
      },
      "outputs": [
        {
          "output_type": "stream",
          "name": "stdout",
          "text": [
            "[[1 2]\n",
            " [3 4]\n",
            " [5 6]]\n",
            "\n",
            "(3, 2)\n"
          ]
        }
      ],
      "source": [
        "x = np.array([[1,2],[3,4], [5, 6]])\n",
        "print(x)\n",
        "print()\n",
        "print(x.shape)"
      ]
    },
    {
      "cell_type": "code",
      "execution_count": null,
      "id": "df82f62e",
      "metadata": {
        "id": "df82f62e",
        "outputId": "ce560309-56ed-4b9c-9a7e-a6e68590b375",
        "colab": {
          "base_uri": "https://localhost:8080/"
        }
      },
      "outputs": [
        {
          "output_type": "stream",
          "name": "stdout",
          "text": [
            "[2 4 6]\n"
          ]
        }
      ],
      "source": [
        "print(np.max(x, axis = 1))"
      ]
    },
    {
      "cell_type": "code",
      "source": [
        "print(np.max(x, axis = 1).shape)"
      ],
      "metadata": {
        "id": "WDWPbijv7xsw",
        "colab": {
          "base_uri": "https://localhost:8080/"
        },
        "outputId": "75c2a653-ee99-436d-bb4e-348fd2007617"
      },
      "id": "WDWPbijv7xsw",
      "execution_count": null,
      "outputs": [
        {
          "output_type": "stream",
          "name": "stdout",
          "text": [
            "(3,)\n"
          ]
        }
      ]
    },
    {
      "cell_type": "code",
      "execution_count": null,
      "id": "0e888b74",
      "metadata": {
        "id": "0e888b74",
        "outputId": "706233d0-461d-47d0-9814-473b3a1e025f",
        "colab": {
          "base_uri": "https://localhost:8080/"
        }
      },
      "outputs": [
        {
          "output_type": "stream",
          "name": "stdout",
          "text": [
            "[[2]\n",
            " [4]\n",
            " [6]]\n"
          ]
        }
      ],
      "source": [
        "print(np.max(x, axis = 1, keepdims = True))"
      ]
    },
    {
      "cell_type": "code",
      "source": [
        "print(np.max(x, axis = 1, keepdims = True).shape)"
      ],
      "metadata": {
        "id": "bs1NM9oR703c",
        "colab": {
          "base_uri": "https://localhost:8080/"
        },
        "outputId": "c583f6f5-616c-403c-bd67-a2be8b6d864e"
      },
      "id": "bs1NM9oR703c",
      "execution_count": null,
      "outputs": [
        {
          "output_type": "stream",
          "name": "stdout",
          "text": [
            "(3, 1)\n"
          ]
        }
      ]
    },
    {
      "cell_type": "markdown",
      "id": "29ff27ec",
      "metadata": {
        "id": "29ff27ec"
      },
      "source": [
        "Next, let's look at some matrix operations. Let's take an element-wise product (Hadamard product)."
      ]
    },
    {
      "cell_type": "code",
      "execution_count": null,
      "id": "25aeb52d",
      "metadata": {
        "id": "25aeb52d",
        "outputId": "bedd106b-e000-49e8-de93-e9ed780183d5",
        "colab": {
          "base_uri": "https://localhost:8080/"
        }
      },
      "outputs": [
        {
          "output_type": "stream",
          "name": "stdout",
          "text": [
            "[[1 2]\n",
            " [3 4]]\n",
            "[[3 3]\n",
            " [3 3]]\n",
            "---\n",
            "[[ 3  6]\n",
            " [ 9 12]]\n"
          ]
        }
      ],
      "source": [
        "A = np.array([[1, 2], [3, 4]])\n",
        "B = np.array([[3, 3], [3, 3]])\n",
        "print(A)\n",
        "print(B)\n",
        "print(\"---\")\n",
        "print(A * B)"
      ]
    },
    {
      "cell_type": "markdown",
      "id": "689f2a8d",
      "metadata": {
        "id": "689f2a8d"
      },
      "source": [
        "We can do matrix multiplication with np.matmul or @."
      ]
    },
    {
      "cell_type": "code",
      "execution_count": null,
      "id": "c76ec303",
      "metadata": {
        "id": "c76ec303",
        "outputId": "bd5f4e11-1630-41ef-fa1a-a1cc1d0ce90e",
        "colab": {
          "base_uri": "https://localhost:8080/"
        }
      },
      "outputs": [
        {
          "output_type": "stream",
          "name": "stdout",
          "text": [
            "[[ 9  9]\n",
            " [21 21]]\n",
            "[[ 9  9]\n",
            " [21 21]]\n"
          ]
        }
      ],
      "source": [
        "# One way to do matrix multiplication\n",
        "print(np.matmul(A, B))\n",
        "\n",
        "# Another way to do matrix multiplication\n",
        "print(A @ B)"
      ]
    },
    {
      "cell_type": "markdown",
      "id": "62696957",
      "metadata": {
        "id": "62696957"
      },
      "source": [
        "We can take the dot product or a matrix vector product with np.dot."
      ]
    },
    {
      "cell_type": "code",
      "execution_count": null,
      "id": "0caf84b9",
      "metadata": {
        "id": "0caf84b9",
        "outputId": "351fbd8d-dcd8-40d4-89df-2eb632fb6242",
        "colab": {
          "base_uri": "https://localhost:8080/"
        }
      },
      "outputs": [
        {
          "output_type": "stream",
          "name": "stdout",
          "text": [
            "321\n",
            "321\n"
          ]
        }
      ],
      "source": [
        "u = np.array([1, 2, 3])\n",
        "v = np.array([1, 10, 100])\n",
        "\n",
        "print(np.dot(u, v))\n",
        "\n",
        "# Can also call numpy operations on the numpy array, useful for chaining together multiple operations\n",
        "print(u.dot(v))"
      ]
    },
    {
      "cell_type": "code",
      "execution_count": null,
      "id": "43e635bb",
      "metadata": {
        "id": "43e635bb",
        "outputId": "d0389087-e8e1-4cf7-d551-d77f8184f87e",
        "colab": {
          "base_uri": "https://localhost:8080/"
        }
      },
      "outputs": [
        {
          "output_type": "stream",
          "name": "stdout",
          "text": [
            "(3,)\n",
            "(3, 2)\n",
            "[531 642]\n",
            "(2,)\n"
          ]
        }
      ],
      "source": [
        "W = np.array([[1, 2], [3, 4], [5, 6]])\n",
        "print(v.shape)\n",
        "print(W.shape)\n",
        "\n",
        "# This works.\n",
        "print(np.dot(v, W))\n",
        "print(np.dot(v, W).shape)"
      ]
    },
    {
      "cell_type": "code",
      "execution_count": null,
      "id": "683dd6ee",
      "metadata": {
        "id": "683dd6ee",
        "outputId": "e22a699b-f4c4-4bd3-ca2a-c9813f717f85",
        "colab": {
          "base_uri": "https://localhost:8080/",
          "height": 228
        }
      },
      "outputs": [
        {
          "output_type": "error",
          "ename": "ValueError",
          "evalue": "shapes (3,2) and (3,) not aligned: 2 (dim 1) != 3 (dim 0)",
          "traceback": [
            "\u001b[0;31m---------------------------------------------------------------------------\u001b[0m",
            "\u001b[0;31mValueError\u001b[0m                                Traceback (most recent call last)",
            "\u001b[0;32m<ipython-input-27-c21878d615cb>\u001b[0m in \u001b[0;36m<cell line: 2>\u001b[0;34m()\u001b[0m\n\u001b[1;32m      1\u001b[0m \u001b[0;31m# This does not. Why?\u001b[0m\u001b[0;34m\u001b[0m\u001b[0;34m\u001b[0m\u001b[0m\n\u001b[0;32m----> 2\u001b[0;31m \u001b[0mprint\u001b[0m\u001b[0;34m(\u001b[0m\u001b[0mnp\u001b[0m\u001b[0;34m.\u001b[0m\u001b[0mdot\u001b[0m\u001b[0;34m(\u001b[0m\u001b[0mW\u001b[0m\u001b[0;34m,\u001b[0m \u001b[0mv\u001b[0m\u001b[0;34m)\u001b[0m\u001b[0;34m)\u001b[0m\u001b[0;34m\u001b[0m\u001b[0;34m\u001b[0m\u001b[0m\n\u001b[0m",
            "\u001b[0;32m/usr/local/lib/python3.10/dist-packages/numpy/core/overrides.py\u001b[0m in \u001b[0;36mdot\u001b[0;34m(*args, **kwargs)\u001b[0m\n",
            "\u001b[0;31mValueError\u001b[0m: shapes (3,2) and (3,) not aligned: 2 (dim 1) != 3 (dim 0)"
          ]
        }
      ],
      "source": [
        "# This does not. Why?\n",
        "print(np.dot(W, v))"
      ]
    },
    {
      "cell_type": "code",
      "execution_count": null,
      "id": "9e8b2184",
      "metadata": {
        "id": "9e8b2184",
        "outputId": "0b29f4da-af0c-4123-a12b-54dcc5e76bb6",
        "colab": {
          "base_uri": "https://localhost:8080/"
        }
      },
      "outputs": [
        {
          "output_type": "stream",
          "name": "stdout",
          "text": [
            "[531 642]\n",
            "(2,)\n"
          ]
        }
      ],
      "source": [
        "# We can fix the above issue by transposing W.\n",
        "print(np.dot(W.T, v))\n",
        "print(np.dot(W.T, v).shape)"
      ]
    },
    {
      "cell_type": "markdown",
      "id": "c13199d8",
      "metadata": {
        "id": "c13199d8"
      },
      "source": [
        "###  Indexing"
      ]
    },
    {
      "cell_type": "markdown",
      "id": "d3d3d5c2",
      "metadata": {
        "id": "d3d3d5c2"
      },
      "source": [
        "Slicing / indexing numpy arrays is a extension of the Python concept of slicing (lists) to N dimensions."
      ]
    },
    {
      "cell_type": "code",
      "execution_count": null,
      "id": "bb930e29",
      "metadata": {
        "scrolled": true,
        "id": "bb930e29",
        "outputId": "6b224d06-cfee-4daf-a363-e32c4af6d218",
        "colab": {
          "base_uri": "https://localhost:8080/"
        }
      },
      "outputs": [
        {
          "output_type": "stream",
          "name": "stdout",
          "text": [
            "[[0.23276209 0.19636556 0.90767998 0.29012232]\n",
            " [0.32939261 0.59430754 0.12414148 0.02677215]\n",
            " [0.69741893 0.47887253 0.14239636 0.59009107]]\n"
          ]
        }
      ],
      "source": [
        "x = np.random.random((3, 4))\n",
        "\n",
        "# Selects all of x\n",
        "print(x[:])"
      ]
    },
    {
      "cell_type": "code",
      "execution_count": null,
      "id": "16d0fe9a",
      "metadata": {
        "id": "16d0fe9a",
        "outputId": "c6f75661-a965-4ba9-e95e-57ba33a3a00a",
        "colab": {
          "base_uri": "https://localhost:8080/"
        }
      },
      "outputs": [
        {
          "output_type": "stream",
          "name": "stdout",
          "text": [
            "[[0.23276209 0.19636556 0.90767998 0.29012232]\n",
            " [0.69741893 0.47887253 0.14239636 0.59009107]]\n",
            "---\n",
            "[0.59430754 0.12414148]\n"
          ]
        }
      ],
      "source": [
        "# Selects the 0th and 2nd rows\n",
        "print(x[np.array([0, 2]), :])\n",
        "\n",
        "print(\"---\")\n",
        "\n",
        "# Selects 1st row as 1-D vector and and 1st through 2nd elements\n",
        "print(x[1, 1:3])"
      ]
    },
    {
      "cell_type": "code",
      "execution_count": null,
      "id": "04bf1911",
      "metadata": {
        "id": "04bf1911",
        "outputId": "704deeee-8c3a-4349-d868-6b212ca98cbc",
        "colab": {
          "base_uri": "https://localhost:8080/"
        }
      },
      "outputs": [
        {
          "output_type": "stream",
          "name": "stdout",
          "text": [
            "[0.90767998 0.59430754 0.69741893 0.59009107]\n"
          ]
        }
      ],
      "source": [
        "# Boolean indexing\n",
        "print(x[x > 0.5])"
      ]
    },
    {
      "cell_type": "code",
      "execution_count": null,
      "id": "118924a3",
      "metadata": {
        "id": "118924a3",
        "outputId": "b0265e53-92d9-408b-cb8f-1bf57b2b16a2",
        "colab": {
          "base_uri": "https://localhost:8080/"
        }
      },
      "outputs": [
        {
          "output_type": "stream",
          "name": "stdout",
          "text": [
            "[[[0.23276209]\n",
            "  [0.19636556]\n",
            "  [0.90767998]\n",
            "  [0.29012232]]\n",
            "\n",
            " [[0.32939261]\n",
            "  [0.59430754]\n",
            "  [0.12414148]\n",
            "  [0.02677215]]\n",
            "\n",
            " [[0.69741893]\n",
            "  [0.47887253]\n",
            "  [0.14239636]\n",
            "  [0.59009107]]]\n"
          ]
        }
      ],
      "source": [
        "# 3-D vector of shape (3, 4, 1)\n",
        "print(x[:, :, np.newaxis])"
      ]
    },
    {
      "cell_type": "markdown",
      "id": "48e1704f",
      "metadata": {
        "id": "48e1704f"
      },
      "source": [
        "### Broadcasting"
      ]
    },
    {
      "cell_type": "markdown",
      "id": "40d35521",
      "metadata": {
        "id": "40d35521"
      },
      "source": [
        "The term broadcasting describes how NumPy treats arrays with different shapes during arithmetic operations.\n",
        "\n",
        "**General Broadcasting Rules**\n",
        "\n",
        "When operating on two arrays, NumPy compares their shapes element-wise. It starts with the trailing (i.e. rightmost) dimensions and works its way left. Two dimensions are compatible when:\n",
        "- they are equal, or\n",
        "- one of them is 1 (in which case, elements on the axis are repeated along the dimension)\n",
        "\n",
        "More details: https://numpy.org/doc/stable/user/basics.broadcasting.html"
      ]
    },
    {
      "cell_type": "code",
      "execution_count": null,
      "id": "e3f0c8b1",
      "metadata": {
        "id": "e3f0c8b1"
      },
      "outputs": [],
      "source": [
        "x = np.random.random((3, 4))\n",
        "\n",
        "y = np.random.random((3, 1))\n",
        "z = np.random.random((1, 4))\n",
        "\n",
        "# In this example, y and z are broadcasted to match the shape of x.\n",
        "# y is broadcasted along dim 1.\n",
        "s = x + y\n",
        "# z is broadcasted along dim 0.\n",
        "p = x * z"
      ]
    },
    {
      "cell_type": "code",
      "execution_count": null,
      "id": "93cdfc8a",
      "metadata": {
        "id": "93cdfc8a",
        "outputId": "b096d61b-a32c-49b4-941e-d85eef797f7d",
        "colab": {
          "base_uri": "https://localhost:8080/"
        }
      },
      "outputs": [
        {
          "output_type": "stream",
          "name": "stdout",
          "text": [
            "(3, 4)\n",
            "\n",
            "(3, 1)\n",
            "(3, 4)\n",
            "[[0.35395798 0.909112   0.74199866 0.10240426]\n",
            " [0.08199362 0.38060642 0.56514431 0.04277975]\n",
            " [0.47708748 0.32495676 0.69878276 0.57387682]]\n",
            "[[0.1573727 ]\n",
            " [0.6606369 ]\n",
            " [0.67958481]]\n",
            "[[0.51133068 1.0664847  0.89937136 0.25977696]\n",
            " [0.74263051 1.04124331 1.22578121 0.70341665]\n",
            " [1.1566723  1.00454158 1.37836757 1.25346163]]\n"
          ]
        }
      ],
      "source": [
        "print(x.shape)\n",
        "print()\n",
        "print(y.shape)\n",
        "print(s.shape)\n",
        "print(x)\n",
        "print(y)\n",
        "print(s)"
      ]
    },
    {
      "cell_type": "code",
      "execution_count": null,
      "id": "a77b76bc",
      "metadata": {
        "id": "a77b76bc",
        "outputId": "86a29329-bb73-49ee-c1aa-8a40572fb664",
        "colab": {
          "base_uri": "https://localhost:8080/"
        }
      },
      "outputs": [
        {
          "output_type": "stream",
          "name": "stdout",
          "text": [
            "(3, 4)\n",
            "\n",
            "(3, 4)\n",
            "(3, 4)\n"
          ]
        }
      ],
      "source": [
        "print(x.shape)\n",
        "print()\n",
        "print(s.shape)\n",
        "print(p.shape)"
      ]
    },
    {
      "cell_type": "code",
      "source": [
        "a = np.zeros((3, 3))\n",
        "b = np.array([[1, 2, 3]])\n",
        "print(a)\n",
        "print(b.shape)\n",
        "print()\n",
        "print(a+b)"
      ],
      "metadata": {
        "colab": {
          "base_uri": "https://localhost:8080/"
        },
        "id": "FICMa8RiMR08",
        "outputId": "a1a680f0-05be-43cd-e882-11cbe1cb6452"
      },
      "id": "FICMa8RiMR08",
      "execution_count": null,
      "outputs": [
        {
          "output_type": "stream",
          "name": "stdout",
          "text": [
            "[[0. 0. 0.]\n",
            " [0. 0. 0.]\n",
            " [0. 0. 0.]]\n",
            "(1, 3)\n",
            "\n",
            "[[1. 2. 3.]\n",
            " [1. 2. 3.]\n",
            " [1. 2. 3.]]\n"
          ]
        }
      ]
    },
    {
      "cell_type": "markdown",
      "id": "fec8ae1e",
      "metadata": {
        "id": "fec8ae1e"
      },
      "source": [
        "Let's look at a more complex example."
      ]
    },
    {
      "cell_type": "code",
      "execution_count": null,
      "id": "2b1b271d",
      "metadata": {
        "id": "2b1b271d"
      },
      "outputs": [],
      "source": [
        "a = np.random.random((3, 4))\n",
        "b = np.random.random((3, 1))\n",
        "c = np.random.random((3, ))"
      ]
    },
    {
      "cell_type": "markdown",
      "id": "972fda59",
      "metadata": {
        "id": "972fda59"
      },
      "source": [
        "What is the expected broadcasting behavior for these operations? What do the following operations give us? What are the resulting shapes?"
      ]
    },
    {
      "cell_type": "code",
      "execution_count": null,
      "id": "ab0e1d5b",
      "metadata": {
        "id": "ab0e1d5b",
        "outputId": "c8f28d09-ea7e-4615-9375-1262f7921ccb",
        "colab": {
          "base_uri": "https://localhost:8080/"
        }
      },
      "outputs": [
        {
          "output_type": "stream",
          "name": "stdout",
          "text": [
            "(3, 1)\n",
            "(1, 3)\n",
            "(3, 3)\n",
            "[[0.9366903  0.66137566 0.94502712]\n",
            " [0.66137566 0.38606102 0.66971249]\n",
            " [0.94502712 0.66971249 0.95336395]]\n"
          ]
        }
      ],
      "source": [
        "result1 = b + b.T\n",
        "\n",
        "print(b.shape)\n",
        "print(b.T.shape)\n",
        "print(result1.shape)\n",
        "print(result1)"
      ]
    },
    {
      "cell_type": "code",
      "execution_count": null,
      "id": "d7e113be",
      "metadata": {
        "scrolled": true,
        "id": "d7e113be",
        "outputId": "1ce7f523-2cef-49c3-9939-89ff777929b2",
        "colab": {
          "base_uri": "https://localhost:8080/",
          "height": 246
        }
      },
      "outputs": [
        {
          "output_type": "error",
          "ename": "ValueError",
          "evalue": "operands could not be broadcast together with shapes (3,4) (3,) ",
          "traceback": [
            "\u001b[0;31m---------------------------------------------------------------------------\u001b[0m",
            "\u001b[0;31mValueError\u001b[0m                                Traceback (most recent call last)",
            "\u001b[0;32m<ipython-input-39-490e280e0ca0>\u001b[0m in \u001b[0;36m<cell line: 1>\u001b[0;34m()\u001b[0m\n\u001b[0;32m----> 1\u001b[0;31m \u001b[0mresult2\u001b[0m \u001b[0;34m=\u001b[0m \u001b[0ma\u001b[0m \u001b[0;34m+\u001b[0m \u001b[0mc\u001b[0m\u001b[0;34m\u001b[0m\u001b[0;34m\u001b[0m\u001b[0m\n\u001b[0m\u001b[1;32m      2\u001b[0m \u001b[0;34m\u001b[0m\u001b[0m\n\u001b[1;32m      3\u001b[0m \u001b[0mprint\u001b[0m\u001b[0;34m(\u001b[0m\u001b[0ma\u001b[0m\u001b[0;34m.\u001b[0m\u001b[0mshape\u001b[0m\u001b[0;34m)\u001b[0m\u001b[0;34m\u001b[0m\u001b[0;34m\u001b[0m\u001b[0m\n\u001b[1;32m      4\u001b[0m \u001b[0mprint\u001b[0m\u001b[0;34m(\u001b[0m\u001b[0mc\u001b[0m\u001b[0;34m.\u001b[0m\u001b[0mshape\u001b[0m\u001b[0;34m)\u001b[0m\u001b[0;34m\u001b[0m\u001b[0;34m\u001b[0m\u001b[0m\n\u001b[1;32m      5\u001b[0m \u001b[0mprint\u001b[0m\u001b[0;34m(\u001b[0m\u001b[0mresult2\u001b[0m\u001b[0;34m.\u001b[0m\u001b[0mshape\u001b[0m\u001b[0;34m)\u001b[0m\u001b[0;34m\u001b[0m\u001b[0;34m\u001b[0m\u001b[0m\n",
            "\u001b[0;31mValueError\u001b[0m: operands could not be broadcast together with shapes (3,4) (3,) "
          ]
        }
      ],
      "source": [
        "result2 = a + c\n",
        "\n",
        "print(a.shape)\n",
        "print(c.shape)\n",
        "print(result2.shape)\n",
        "print(result2)"
      ]
    },
    {
      "cell_type": "code",
      "execution_count": null,
      "id": "e91c0c70",
      "metadata": {
        "id": "e91c0c70",
        "outputId": "e96db2fa-7c23-4c70-a921-c1b2907e5578",
        "colab": {
          "base_uri": "https://localhost:8080/"
        }
      },
      "outputs": [
        {
          "output_type": "stream",
          "name": "stdout",
          "text": [
            "(3, 1)\n",
            "(3,)\n",
            "(3, 3)\n",
            "[[0.51531814 0.86814467 0.47100907]\n",
            " [0.2400035  0.59283003 0.19569443]\n",
            " [0.52365497 0.87648149 0.47934589]]\n"
          ]
        }
      ],
      "source": [
        "result3 = b + c\n",
        "\n",
        "print(b.shape)\n",
        "print(c.shape)\n",
        "print(result3.shape)\n",
        "print(result3)"
      ]
    },
    {
      "cell_type": "markdown",
      "id": "0a845479",
      "metadata": {
        "id": "0a845479"
      },
      "source": [
        "### Efficient NumPy Code"
      ]
    },
    {
      "cell_type": "markdown",
      "id": "55c8d74f",
      "metadata": {
        "id": "55c8d74f"
      },
      "source": [
        "When working with numpy arrays, avoid explicit for-loops over indices/axes at all costs. For-loops will dramatically slow down your code (~10-100x)."
      ]
    },
    {
      "cell_type": "markdown",
      "id": "e1285d83",
      "metadata": {
        "id": "e1285d83"
      },
      "source": [
        "We can time code using the %%timeit magic. Let's compare using explicit for-loop vs. using numpy operations."
      ]
    },
    {
      "cell_type": "code",
      "execution_count": null,
      "id": "ba02c912",
      "metadata": {
        "id": "ba02c912",
        "outputId": "0959de9e-31ae-4e40-92aa-65747553436d",
        "colab": {
          "base_uri": "https://localhost:8080/"
        }
      },
      "outputs": [
        {
          "output_type": "stream",
          "name": "stdout",
          "text": [
            "402 ms ± 139 ms per loop (mean ± std. dev. of 7 runs, 1 loop each)\n"
          ]
        }
      ],
      "source": [
        "%%timeit\n",
        "x = np.random.rand(1000, 1000)\n",
        "for i in range(100, 1000):\n",
        "    for j in range(x.shape[1]):\n",
        "        x[i, j] += 5"
      ]
    },
    {
      "cell_type": "code",
      "execution_count": null,
      "id": "3c96fc83",
      "metadata": {
        "id": "3c96fc83",
        "outputId": "d4496623-d470-48f7-d932-e7e6e0d62ec1",
        "colab": {
          "base_uri": "https://localhost:8080/"
        }
      },
      "outputs": [
        {
          "output_type": "stream",
          "name": "stdout",
          "text": [
            "8.96 ms ± 193 µs per loop (mean ± std. dev. of 7 runs, 100 loops each)\n"
          ]
        }
      ],
      "source": [
        "%%timeit\n",
        "x = np.random.rand(1000, 1000)\n",
        "x[np.arange(100,1000), :] += 5"
      ]
    },
    {
      "cell_type": "code",
      "execution_count": null,
      "id": "72b832dd",
      "metadata": {
        "id": "72b832dd"
      },
      "outputs": [],
      "source": []
    }
  ],
  "metadata": {
    "kernelspec": {
      "display_name": "Python 3",
      "name": "python3"
    },
    "language_info": {
      "codemirror_mode": {
        "name": "ipython",
        "version": 3
      },
      "file_extension": ".py",
      "mimetype": "text/x-python",
      "name": "python",
      "nbconvert_exporter": "python",
      "pygments_lexer": "ipython3",
      "version": "3.9.7"
    },
    "colab": {
      "provenance": [],
      "gpuType": "T4",
      "include_colab_link": true
    },
    "accelerator": "GPU"
  },
  "nbformat": 4,
  "nbformat_minor": 5
}